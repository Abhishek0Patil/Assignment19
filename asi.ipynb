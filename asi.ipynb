{
 "cells": [
  {
   "cell_type": "markdown",
   "id": "ac9505aa-934a-41bd-948d-339e4f32b2ea",
   "metadata": {},
   "source": [
    "A probability density function (PDF) is a function used in statistics to describe the likelihood of a continuous random variable taking on a certain value within a given range."
   ]
  },
  {
   "cell_type": "code",
   "execution_count": null,
   "id": "32c3b5ce-336d-428e-a1df-6a32bee62d88",
   "metadata": {},
   "outputs": [],
   "source": []
  },
  {
   "cell_type": "markdown",
   "id": "e3356315-7150-40d2-9e18-f211ba8eb65c",
   "metadata": {},
   "source": [
    "Normal (Gaussian) Distribution: Often referred to a\n",
    "s the bell curve, it is characterized by its symmetric, bell-shaped curve.\n",
    "\n",
    "Bernoulli Distribution: The Bernoulli distribution is a discrete probability distribution that models a single experiment with two possible outcomes: success and failure.\n",
    "\n",
    "Uniform Distribution: The uniform distribution is a continuous probability distribution where all outcomes within a given interval are equally likely.\n",
    "\n",
    "Poisson Distribution: The Poisson distribution is a discrete probability distribution that models the number of events occurring in a fixed interval of time or space.\n",
    "\n",
    "Log Normal Distribution: The log-normal distribution is a continuous probability distribution of a random variable whose logarithm is normally distributed.\n",
    "\n",
    "Binomial Distribution: The binomial distribution is a discrete probability distribution that models the number of successes in a fixed number of independent Bernoulli trials."
   ]
  },
  {
   "cell_type": "code",
   "execution_count": null,
   "id": "c1c3a82f-31bc-4df1-a144-d7d5a0dc7a1c",
   "metadata": {},
   "outputs": [],
   "source": []
  },
  {
   "cell_type": "code",
   "execution_count": 2,
   "id": "2d86f233-3e26-412d-a3e7-9b6debabcfe2",
   "metadata": {},
   "outputs": [
    {
     "name": "stdout",
     "output_type": "stream",
     "text": [
      "PDF at x = 12 : 0.12098536225957168\n"
     ]
    }
   ],
   "source": [
    "import math\n",
    "\n",
    "def normal_pdf(x,mu,sigma) :\n",
    "    exponent = -((x - mu) ** 2) / (2 * sigma ** 2)\n",
    "    pdf = (1 / (math.sqrt(2 * math.pi) * sigma)) * math.exp(exponent)\n",
    "    return pdf\n",
    "\n",
    "mean = 10\n",
    "std_dev = 2\n",
    "point = 12\n",
    "pdf_value = normal_pdf(point, mean, std_dev)\n",
    "print(\"PDF at x =\", point, \":\", pdf_value)"
   ]
  },
  {
   "cell_type": "code",
   "execution_count": null,
   "id": "ad68af25-7b69-4d37-834f-12bace885d8b",
   "metadata": {},
   "outputs": [],
   "source": []
  },
  {
   "cell_type": "markdown",
   "id": "999f488a-a56d-4e5e-8df1-44926c0f84d6",
   "metadata": {},
   "source": [
    "The binomial distribution is a discrete probability distribution that models the number of successes in a fixed number of independent Bernoulli trials. Here are some key properties of the binomial distribution:\n",
    "\n",
    "Fixed Number of Trials: The binomial distribution is defined for a fixed number of trials, denoted by n.\n",
    "\n",
    "Independent Trials: Each trial in the binomial distribution is independent of the others.\n",
    "\n",
    "Two Outcomes: Each trial has only two possible outcomes: success or failure.\n",
    "\n",
    "Constant Probability of Success: The probability of success, denoted by p, is the same for each trial.\n",
    "\n",
    "Discrete Outcome: The number of successes, denoted by k, is a discrete random variable that can take on integer values from 0 to n.\n",
    "\n",
    "Examples of events where the binomial distribution can be applied:\n",
    "\n",
    "Coin Flips: Suppose you flip a fair coin (where the probability of getting heads p, is 0.5) 10 times. The number of heads obtained follows a binomial distribution with parameters n=10 and p=0.5.\n",
    "\n",
    "Product Defects: A manufacturing company produces a certain type of product, and each product has a probability p of being defective. If the company produces n products, the number of defective products follows a binomial distribution with parameters n and p. For example, if n=1000 and p=0.02 (meaning 2% of the products are defective on average), you can use the binomial distribution to model the number of defective products in a batch of 1000."
   ]
  },
  {
   "cell_type": "code",
   "execution_count": null,
   "id": "819c6724-1be9-4cc2-b210-c6cced7d6419",
   "metadata": {},
   "outputs": [],
   "source": []
  },
  {
   "cell_type": "code",
   "execution_count": 11,
   "id": "0f8a8df6-4620-4f4f-9708-dc0e4a9238ee",
   "metadata": {},
   "outputs": [
    {
     "data": {
      "image/png": "[encoded data removed]",
      "text/plain": [
       "<Figure size 600x500 with 1 Axes>"
      ]
     },
     "metadata": {},
     "output_type": "display_data"
    }
   ],
   "source": [
    "import numpy as np\n",
    "import matplotlib.pyplot as plt\n",
    "\n",
    "n = 1000  \n",
    "p = 0.4   \n",
    "\n",
    "random_sample = np.random.binomial(n, p, size=1000)\n",
    "\n",
    "plt.figure(figsize=(6,5))\n",
    "plt.hist(random_sample, bins=range(n+1), alpha=0.7, color='skyblue', edgecolor='orange')\n",
    "plt.xlabel('Number of Successes')\n",
    "plt.ylabel('Frequency')\n",
    "plt.title('Histogram of Binomial Distribution (n=1000, p=0.4)')\n",
    "plt.grid(True)\n",
    "plt.show()\n"
   ]
  },
  {
   "cell_type": "code",
   "execution_count": null,
   "id": "1cf442ed-18c0-4f8c-984b-48e27ad133b2",
   "metadata": {},
   "outputs": [],
   "source": []
  },
  {
   "cell_type": "code",
   "execution_count": 12,
   "id": "7aa99085-fd56-4601-9aec-53c4e0e50890",
   "metadata": {},
   "outputs": [
    {
     "name": "stdout",
     "output_type": "stream",
     "text": [
      "CDF at k = 2 : 0.42319008112684353\n"
     ]
    }
   ],
   "source": [
    "import math\n",
    "\n",
    "def poisson_cdf(k, lam):\n",
    "    cdf = 0\n",
    "    for i in range(k + 1):\n",
    "        cdf += (math.exp(-lam) * (lam ** i)) / math.factorial(i)\n",
    "    return cdf\n",
    "\n",
    "mean = 3\n",
    "point = 2\n",
    "cdf_value = poisson_cdf(point, mean)\n",
    "print(\"CDF at k =\", point, \":\", cdf_value)\n"
   ]
  },
  {
   "cell_type": "code",
   "execution_count": null,
   "id": "b753c30a-bc48-485e-971a-26c7979b1d63",
   "metadata": {},
   "outputs": [],
   "source": []
  },
  {
   "cell_type": "markdown",
   "id": "9ca345e9-1a1a-454b-becf-3cfa69756355",
   "metadata": {},
   "source": [
    "The binomial distribution and the Poisson distribution are both commonly used in probability theory and statistics, but they are applied in different scenarios and have distinct characteristics.\n",
    "\n",
    "Here are some key differences between the two distributions:\n",
    "\n",
    "Nature of Events:\n",
    "\n",
    "Binomial Distribution: The binomial distribution models the number of successes in a fixed number of independent Bernoulli trials, where each trial has two possible outcomes (success or failure). The trials are independent and have a constant probability of success.\n",
    "\n",
    "Poisson Distribution: The Poisson distribution models the number of events occurring in a fixed interval of time or space. It is used when the events are rare and occur independently of each other.\n",
    "\n",
    "Number of Trials:\n",
    "\n",
    "Binomial Distribution: The binomial distribution is defined for a fixed number of trials, denoted by n.\n",
    "\n",
    "Poisson Distribution: The Poisson distribution does not have a fixed number of trials. It represents events occurring in a continuous or infinite sequence.\n"
   ]
  },
  {
   "cell_type": "code",
   "execution_count": null,
   "id": "77123a4f-158f-4932-b7bb-724e3014831f",
   "metadata": {},
   "outputs": [],
   "source": []
  },
  {
   "cell_type": "code",
   "execution_count": 13,
   "id": "ec5a9f74-e4bd-46fd-92ac-05c21ae3252f",
   "metadata": {},
   "outputs": [
    {
     "name": "stdout",
     "output_type": "stream",
     "text": [
      "Sample Mean: 4.989\n",
      "Sample Variance: 4.882879\n"
     ]
    }
   ],
   "source": [
    "import numpy as np\n",
    "\n",
    "mean = 5\n",
    "sample_size = 1000\n",
    "\n",
    "random_sample = np.random.poisson(mean, size=sample_size)\n",
    "\n",
    "sample_mean = np.mean(random_sample)\n",
    "sample_variance = np.var(random_sample)\n",
    "\n",
    "print(\"Sample Mean:\", sample_mean)\n",
    "print(\"Sample Variance:\", sample_variance)"
   ]
  },
  {
   "cell_type": "code",
   "execution_count": null,
   "id": "412b9227-6256-45b6-9cb0-1cde484261d1",
   "metadata": {},
   "outputs": [],
   "source": []
  },
  {
   "cell_type": "markdown",
   "id": "45257637-b12b-46de-990b-6b25dd8e0d71",
   "metadata": {},
   "source": [
    "Binomial Distribution:\n",
    "\n",
    "Mean (μ): For a binomial distribution with parameters n (number of trials) and p (probability of success), the mean is given by μ=np.\n",
    "\n",
    "Variance : The variance of a binomial distribution is given by sigma2 =np(1−p).\n",
    "\n",
    "Poisson Distribution:\n",
    "\n",
    "Mean (λ): For a Poisson distribution, the mean is denoted by λ, which represents the average rate of occurrence of events.\n",
    "\n",
    "Variance : In the Poisson distribution, the variance is equal to the mean, i.e., sigma2 =λ."
   ]
  },
  {
   "cell_type": "code",
   "execution_count": null,
   "id": "d5765aed-f1b5-45d1-80c7-50f3919440f7",
   "metadata": {},
   "outputs": [],
   "source": []
  },
  {
   "cell_type": "markdown",
   "id": "7bef1b8c-f6a5-4ad9-8f52-9213b97960cc",
   "metadata": {},
   "source": [
    "In a normal distribution, also known as a Gaussian distribution, the least frequent data points appear furthest from the mean.\n",
    "\n",
    "Since the normal distribution is symmetric about its mean, the data points become increasingly less frequent as they move away from the mean in either direction along the x-axis. The tails of the distribution, which represent the data points farthest from the mean, contain the least frequent values."
   ]
  },
  {
   "cell_type": "code",
   "execution_count": null,
   "id": "7631775b-1d7e-4de2-864a-66587961526e",
   "metadata": {},
   "outputs": [],
   "source": []
  }
 ],
 "metadata": {
  "kernelspec": {
   "display_name": "Python 3 (ipykernel)",
   "language": "python",
   "name": "python3"
  },
  "language_info": {
   "codemirror_mode": {
    "name": "ipython",
    "version": 3
   },
   "file_extension": ".py",
   "mimetype": "text/x-python",
   "name": "python",
   "nbconvert_exporter": "python",
   "pygments_lexer": "ipython3",
   "version": "3.10.8"
  }
 },
 "nbformat": 4,
 "nbformat_minor": 5
}
